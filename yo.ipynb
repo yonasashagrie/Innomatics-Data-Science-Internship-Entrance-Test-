{
 "cells": [
  {
   "cell_type": "code",
   "execution_count": null,
   "metadata": {},
   "outputs": [],
   "source": [
    "import requests\n",
    "import numpy as np\n",
    "from bs4 import BeautifulSoup\n",
    "import pandas as pd\n",
    "\n",
    "def scrapper(imdbId):\n",
    "    id = str(int(imdbId))\n",
    "    n_zeroes = 7 - len(id)\n",
    "    new_id = \"0\" * n_zeroes + id\n",
    "    URL = f\"https://www.imdb.com/title/tt{new_id}/\"\n",
    "    request_header = {\n",
    "        'Content-Type': 'text/html; charset=UTF-8',\n",
    "        'User-Agent': 'Mozilla/5.0 (Windows NT 10.0; Win64; x64; rv:109.0) Gecko/20100101 Firefox/119.0',\n",
    "        'Accept-Encoding': 'gzip, deflate, br'\n",
    "    }\n",
    "    response = requests.get(URL, headers=request_header)\n",
    "    soup = BeautifulSoup(response.text, 'html.parser')\n",
    "    imdb_rating_tag = soup.find('span', attrs={'itemprop': 'ratingValue'})\n",
    "    return imdb_rating_tag.text if imdb_rating_tag else np.nan\n",
    "\n",
    "# Assuming you have a DataFrame containing movies with more than 50 user ratings\n",
    "# Replace \"subset_df.csv\" with the actual file path or DataFrame variable\n",
    "subset_df = pd.read_csv(\"subset_df.csv\")\n",
    "\n",
    "# Assuming \"links.csv\" has columns 'movieId' and 'imdbId'\n",
    "links_df = pd.read_csv(\"links.csv\")\n",
    "\n",
    "# Merge the subset DataFrame with links to get IMDb IDs for each movie\n",
    "merged_df = pd.merge(subset_df, links_df, on='movieId', how='inner')\n",
    "\n",
    "# Apply the scrapper function to fetch IMDb ratings for each movie\n",
    "merged_df['imdb_rating'] = merged_df['imdbId'].apply(scrapper)\n",
    "\n",
    "# Save the final combined DataFrame to a new CSV file\n",
    "merged_df.to_csv(\"combined_data_with_imdb_ratings.csv\", index=False)\n",
    "\n",
    "# Display the structure and content of the final combined DataFrame\n",
    "print(\"Combined Information:\")\n",
    "print(merged_df[['movieId', 'title', 'genres', 'imdbId', 'imdb_rating']])\n"
   ]
  }
 ],
 "metadata": {
  "language_info": {
   "name": "python"
  }
 },
 "nbformat": 4,
 "nbformat_minor": 2
}
